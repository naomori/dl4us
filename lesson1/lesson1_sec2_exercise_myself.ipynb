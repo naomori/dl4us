{
  "nbformat": 4,
  "nbformat_minor": 0,
  "metadata": {
    "kernelspec": {
      "name": "python3",
      "display_name": "Python 3"
    },
    "language_info": {
      "codemirror_mode": {
        "name": "ipython",
        "version": 3
      },
      "file_extension": ".py",
      "mimetype": "text/x-python",
      "name": "python",
      "nbconvert_exporter": "python",
      "pygments_lexer": "ipython3",
      "version": "3.6.7"
    },
    "colab": {
      "name": "lesson1_sec2_exercise_myself.ipynb",
      "version": "0.3.2",
      "provenance": [],
      "include_colab_link": true
    },
    "accelerator": "GPU"
  },
  "cells": [
    {
      "cell_type": "markdown",
      "metadata": {
        "id": "view-in-github",
        "colab_type": "text"
      },
      "source": [
        "<a href=\"https://colab.research.google.com/github/naomori/dl4us/blob/master/lesson1/lesson1_sec2_exercise_myself.ipynb\" target=\"_parent\"><img src=\"https://colab.research.google.com/assets/colab-badge.svg\" alt=\"Open In Colab\"/></a>"
      ]
    },
    {
      "cell_type": "markdown",
      "metadata": {
        "id": "VuyOI7t4XSDK",
        "colab_type": "text"
      },
      "source": [
        "# Lesson1 手書き文字認識をしよう（ニューラルネットワーク入門）"
      ]
    },
    {
      "cell_type": "markdown",
      "metadata": {
        "id": "N35MN9XiXSDM",
        "colab_type": "text"
      },
      "source": [
        "## 目次\n",
        "\n",
        "- 1.6の解答\n",
        "- Section2 実装①\n",
        "  - 2.1 MNISTによるMLPの復習"
      ]
    },
    {
      "cell_type": "markdown",
      "metadata": {
        "id": "DNQF4JSJXSDM",
        "colab_type": "text"
      },
      "source": [
        "## 1.6の解答\n",
        "\n",
        "1. 学習データ以外の未知のデータに対するモデルの予測性能を何というか  \n",
        "  ①神通力　②バイアス　**③汎化性能**　④共起性\n",
        "2. データセット全体を一度に全て使用して学習する方法を何というか  \n",
        "  ①転移学習　②ワンショット学習　③過学習　**④バッチ学習**　\n",
        "3. 名義尺度のデータをバイナリベクトルによって表現したものを何というか  \n",
        "  ①分散表現　**②one-hot表現**　③ビット表現　④ユニタリ表現\n",
        "4. モデルの学習に当たって最小化するものは何か  \n",
        "  ①精度　**②損失関数**　③スコア　④F値"
      ]
    },
    {
      "cell_type": "markdown",
      "metadata": {
        "id": "tj7p07tsXSDN",
        "colab_type": "text"
      },
      "source": [
        "## Section2 実装①"
      ]
    },
    {
      "cell_type": "markdown",
      "metadata": {
        "id": "Bu-Z9NeEXSDO",
        "colab_type": "text"
      },
      "source": [
        "### 2.1 MNISTによるMLPの復習"
      ]
    },
    {
      "cell_type": "code",
      "metadata": {
        "id": "aXIdOA34XSDP",
        "colab_type": "code",
        "colab": {}
      },
      "source": [
        "# データのロード\n",
        "from tensorflow.keras.datasets import mnist\n",
        "\n",
        "(x_train, y_train), (x_test, y_test) = mnist.load_data()"
      ],
      "execution_count": 0,
      "outputs": []
    },
    {
      "cell_type": "code",
      "metadata": {
        "id": "Mye5fU49XSDR",
        "colab_type": "code",
        "colab": {}
      },
      "source": [
        "# データの整形\n",
        "from tensorflow.keras.utils import to_categorical\n",
        "\n",
        "x_train = x_train.reshape(-1, 784)\n",
        "x_test = x_test.reshape(-1, 784)\n",
        "\n",
        "y_train = to_categorical(y_train)\n",
        "y_test = to_categorical(y_test)"
      ],
      "execution_count": 0,
      "outputs": []
    },
    {
      "cell_type": "code",
      "metadata": {
        "id": "Iz9lS2pHXSDV",
        "colab_type": "code",
        "colab": {
          "base_uri": "https://localhost:8080/",
          "height": 104
        },
        "outputId": "b756bc2c-9310-47e9-9952-1bac2fe7f754"
      },
      "source": [
        "# モデル構築\n",
        "from tensorflow.keras.models import Sequential\n",
        "from tensorflow.keras.layers import Dense, Activation\n",
        "\n",
        "model = Sequential()\n",
        "\n",
        "model.add(Dense(units=256, input_shape=(784,)))\n",
        "model.add(Activation('relu'))\n",
        "model.add(Dense(units=100))\n",
        "model.add(Activation('relu'))\n",
        "model.add(Dense(units=10))\n",
        "model.add(Activation('softmax'))\n",
        "\n",
        "model.compile(loss='categorical_crossentropy', optimizer='sgd', metrics=['accuracy'])"
      ],
      "execution_count": 3,
      "outputs": [
        {
          "output_type": "stream",
          "text": [
            "WARNING: Logging before flag parsing goes to stderr.\n",
            "W0828 03:57:03.707803 140421792679808 deprecation.py:506] From /usr/local/lib/python3.6/dist-packages/tensorflow/python/ops/init_ops.py:1251: calling VarianceScaling.__init__ (from tensorflow.python.ops.init_ops) with dtype is deprecated and will be removed in a future version.\n",
            "Instructions for updating:\n",
            "Call initializer instance with the dtype argument instead of passing it to the constructor\n"
          ],
          "name": "stderr"
        }
      ]
    },
    {
      "cell_type": "code",
      "metadata": {
        "id": "zUMX7i6gXSDX",
        "colab_type": "code",
        "colab": {
          "base_uri": "https://localhost:8080/",
          "height": 385
        },
        "outputId": "b1c5f9fa-5b82-4a08-ad2f-15ee2fbdbf03"
      },
      "source": [
        "# 学習\n",
        "model.fit(x_train, y_train, batch_size=1000, epochs=10, verbose=1, validation_data=(x_test, y_test))"
      ],
      "execution_count": 4,
      "outputs": [
        {
          "output_type": "stream",
          "text": [
            "Train on 60000 samples, validate on 10000 samples\n",
            "Epoch 1/10\n",
            "60000/60000 [==============================] - 1s 11us/sample - loss: 40713.2990 - acc: 0.1037 - val_loss: 2.4088 - val_acc: 0.1135\n",
            "Epoch 2/10\n",
            "60000/60000 [==============================] - 0s 7us/sample - loss: 2.3022 - acc: 0.1125 - val_loss: 2.4088 - val_acc: 0.1135\n",
            "Epoch 3/10\n",
            "60000/60000 [==============================] - 0s 7us/sample - loss: 2.3020 - acc: 0.1125 - val_loss: 2.4085 - val_acc: 0.1136\n",
            "Epoch 4/10\n",
            "60000/60000 [==============================] - 0s 7us/sample - loss: 2.3020 - acc: 0.1128 - val_loss: 2.4086 - val_acc: 0.1135\n",
            "Epoch 5/10\n",
            "60000/60000 [==============================] - 0s 7us/sample - loss: 2.3019 - acc: 0.1124 - val_loss: 2.4084 - val_acc: 0.1135\n",
            "Epoch 6/10\n",
            "60000/60000 [==============================] - 0s 7us/sample - loss: 2.3018 - acc: 0.1124 - val_loss: 2.4083 - val_acc: 0.1135\n",
            "Epoch 7/10\n",
            "60000/60000 [==============================] - 0s 7us/sample - loss: 2.3017 - acc: 0.1124 - val_loss: 2.4083 - val_acc: 0.1135\n",
            "Epoch 8/10\n",
            "60000/60000 [==============================] - 0s 7us/sample - loss: 2.3016 - acc: 0.1124 - val_loss: 2.4082 - val_acc: 0.1135\n",
            "Epoch 9/10\n",
            "60000/60000 [==============================] - 0s 7us/sample - loss: 2.3015 - acc: 0.1124 - val_loss: 2.4081 - val_acc: 0.1135\n",
            "Epoch 10/10\n",
            "60000/60000 [==============================] - 0s 7us/sample - loss: 2.3015 - acc: 0.1124 - val_loss: 2.4080 - val_acc: 0.1135\n"
          ],
          "name": "stdout"
        },
        {
          "output_type": "execute_result",
          "data": {
            "text/plain": [
              "<tensorflow.python.keras.callbacks.History at 0x7fb65b7740f0>"
            ]
          },
          "metadata": {
            "tags": []
          },
          "execution_count": 4
        }
      ]
    },
    {
      "cell_type": "code",
      "metadata": {
        "id": "5SaZmu-kXSDZ",
        "colab_type": "code",
        "colab": {
          "base_uri": "https://localhost:8080/",
          "height": 50
        },
        "outputId": "10fe4d8f-d169-4e52-f79a-976e015633bb"
      },
      "source": [
        "# 性能評価\n",
        "score = model.evaluate(x_test, y_test, verbose=0)\n",
        "print('Test loss:', score[0])\n",
        "print('Test accuracy:', score[1])"
      ],
      "execution_count": 5,
      "outputs": [
        {
          "output_type": "stream",
          "text": [
            "Test loss: 2.4080428359985353\n",
            "Test accuracy: 0.1135\n"
          ],
          "name": "stdout"
        }
      ]
    },
    {
      "cell_type": "code",
      "metadata": {
        "id": "wYzy94N5XSDb",
        "colab_type": "code",
        "colab": {}
      },
      "source": [
        ""
      ],
      "execution_count": 0,
      "outputs": []
    }
  ]
}