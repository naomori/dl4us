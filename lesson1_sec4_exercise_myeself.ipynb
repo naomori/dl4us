{
  "nbformat": 4,
  "nbformat_minor": 0,
  "metadata": {
    "kernelspec": {
      "name": "python3",
      "display_name": "Python 3"
    },
    "language_info": {
      "codemirror_mode": {
        "name": "ipython",
        "version": 3
      },
      "file_extension": ".py",
      "mimetype": "text/x-python",
      "name": "python",
      "nbconvert_exporter": "python",
      "pygments_lexer": "ipython3",
      "version": "3.6.4"
    },
    "colab": {
      "name": "lesson1_sec4_exercise_myeself.ipynb",
      "version": "0.3.2",
      "provenance": [],
      "include_colab_link": true
    },
    "accelerator": "GPU"
  },
  "cells": [
    {
      "cell_type": "markdown",
      "metadata": {
        "id": "view-in-github",
        "colab_type": "text"
      },
      "source": [
        "<a href=\"https://colab.research.google.com/github/naomori/dl4us/blob/master/lesson1_sec4_exercise_myeself.ipynb\" target=\"_parent\"><img src=\"https://colab.research.google.com/assets/colab-badge.svg\" alt=\"Open In Colab\"/></a>"
      ]
    },
    {
      "cell_type": "markdown",
      "metadata": {
        "id": "jA9X9kGelgHr",
        "colab_type": "text"
      },
      "source": [
        "# Lesson1 手書き文字認識をしよう（ニューラルネットワーク入門）"
      ]
    },
    {
      "cell_type": "markdown",
      "metadata": {
        "id": "TbS_fDmklgHt",
        "colab_type": "text"
      },
      "source": [
        "## 目次\n",
        "\n",
        "- 3.4の解答\n",
        "- Section4 実装②\n",
        "  - 4.1 Fashion MNIST\n",
        "  - 4.2 実装"
      ]
    },
    {
      "cell_type": "markdown",
      "metadata": {
        "id": "vDfbUq8JlgHu",
        "colab_type": "text"
      },
      "source": [
        "## 3.4の解答\n",
        "\n",
        "1. 損失関数のパラメータ微分のことを何というか  \n",
        "  ①スケーリング　**②勾配**　③学習率　④SGD\n",
        "2. 活性化関数の選択により対処可能な問題を何というか  \n",
        "  **①勾配消失問題**　②次元の呪い　③固有値問題　④バイアス―バリアンストレードオフ\n",
        "3. 損失関数にペナルティ項を加え、パラメータの自由度を下げる手法を何というか  \n",
        "  ①モーメンタム　②部分空間法　**③正則化**　④誤差逆伝播法\n",
        "4. 過学習への対処としてふさわしくないものはどれか  \n",
        "  ①ドロップアウト　**②スケーリング**　③ElasticNet　④早期終了"
      ]
    },
    {
      "cell_type": "markdown",
      "metadata": {
        "id": "fqiRivGclgHu",
        "colab_type": "text"
      },
      "source": [
        "## Section4 実装②"
      ]
    },
    {
      "cell_type": "markdown",
      "metadata": {
        "id": "x0BYehI6lgHv",
        "colab_type": "text"
      },
      "source": [
        "最後に、この章の復習として、ファッションデータの分類をMLPを用いて行ってみましょう。"
      ]
    },
    {
      "cell_type": "markdown",
      "metadata": {
        "id": "3TDuH8lMlgHw",
        "colab_type": "text"
      },
      "source": [
        "### 4.1 Fashion MNIST"
      ]
    },
    {
      "cell_type": "code",
      "metadata": {
        "id": "1nWMad3XlgHw",
        "colab_type": "code",
        "colab": {
          "base_uri": "https://localhost:8080/",
          "height": 150
        },
        "outputId": "0790eec2-fd7d-4561-97df-fba429edf6bc"
      },
      "source": [
        "# データのロード\n",
        "from tensorflow.keras.datasets import fashion_mnist\n",
        "\n",
        "(x_train, y_train), (x_test, y_test) = fashion_mnist.load_data()"
      ],
      "execution_count": 1,
      "outputs": [
        {
          "output_type": "stream",
          "text": [
            "Downloading data from https://storage.googleapis.com/tensorflow/tf-keras-datasets/train-labels-idx1-ubyte.gz\n",
            "32768/29515 [=================================] - 0s 0us/step\n",
            "Downloading data from https://storage.googleapis.com/tensorflow/tf-keras-datasets/train-images-idx3-ubyte.gz\n",
            "26427392/26421880 [==============================] - 0s 0us/step\n",
            "Downloading data from https://storage.googleapis.com/tensorflow/tf-keras-datasets/t10k-labels-idx1-ubyte.gz\n",
            "8192/5148 [===============================================] - 0s 0us/step\n",
            "Downloading data from https://storage.googleapis.com/tensorflow/tf-keras-datasets/t10k-images-idx3-ubyte.gz\n",
            "4423680/4422102 [==============================] - 0s 0us/step\n"
          ],
          "name": "stdout"
        }
      ]
    },
    {
      "cell_type": "code",
      "metadata": {
        "id": "3BnFMipPlgH1",
        "colab_type": "code",
        "colab": {
          "base_uri": "https://localhost:8080/",
          "height": 50
        },
        "outputId": "51610f55-8125-4eb4-dbe9-09212ccfe2b4"
      },
      "source": [
        "# データセットの大きさ確認\n",
        "print(x_train.shape) # 訓練データのサイズ\n",
        "print(x_test.shape) # テストデータのサイズ"
      ],
      "execution_count": 2,
      "outputs": [
        {
          "output_type": "stream",
          "text": [
            "(60000, 28, 28)\n",
            "(10000, 28, 28)\n"
          ],
          "name": "stdout"
        }
      ]
    },
    {
      "cell_type": "code",
      "metadata": {
        "id": "xfnDUPTHlgH4",
        "colab_type": "code",
        "colab": {
          "base_uri": "https://localhost:8080/",
          "height": 107
        },
        "outputId": "c81bc057-c6ed-4198-ef47-b90ba598498e"
      },
      "source": [
        "# データセットの表示\n",
        "%matplotlib inline\n",
        "import matplotlib.pyplot as plt\n",
        "\n",
        "fig = plt.figure(figsize=(9, 15))\n",
        "fig.subplots_adjust(left=0, right=1, bottom=0, top=0.5, hspace=0.05, wspace=0.05)\n",
        "\n",
        "for i in range(9):\n",
        "    ax = fig.add_subplot(1, 9, i + 1, xticks=[], yticks=[])\n",
        "    ax.imshow(x_train[i], cmap='gray')"
      ],
      "execution_count": 3,
      "outputs": [
        {
          "output_type": "display_data",
          "data": {
            "image/png": "[encoded data removed]",
            "text/plain": [
              "<Figure size 648x1080 with 9 Axes>"
            ]
          },
          "metadata": {
            "tags": []
          }
        }
      ]
    },
    {
      "cell_type": "markdown",
      "metadata": {
        "id": "lrJV97TjlgH6",
        "colab_type": "text"
      },
      "source": [
        "### 4.2 実装"
      ]
    },
    {
      "cell_type": "code",
      "metadata": {
        "id": "ycEVV04BlgH7",
        "colab_type": "code",
        "colab": {}
      },
      "source": [
        "# データの整形\n",
        "from tensorflow.keras.utils import to_categorical\n",
        "\n",
        "x_train = x_train.reshape(-1, 784) / 255\n",
        "x_test = x_test.reshape(-1, 784) /255\n",
        "y_train = to_categorical(y_train)\n",
        "y_test = to_categorical(y_test)"
      ],
      "execution_count": 0,
      "outputs": []
    },
    {
      "cell_type": "code",
      "metadata": {
        "id": "ZLaCJHiflgH8",
        "colab_type": "code",
        "colab": {
          "base_uri": "https://localhost:8080/",
          "height": 104
        },
        "outputId": "9d75cc08-ea8a-4a2e-8ea8-1e77ceade7c1"
      },
      "source": [
        "# モデル構築\n",
        "from tensorflow.keras.models import Sequential\n",
        "from tensorflow.keras.layers import Dense, Activation, Dropout\n",
        "\n",
        "model = Sequential()\n",
        "\n",
        "model.add(Dense(512, input_shape=(784,), activation='relu', kernel_initializer='he_normal'))\n",
        "model.add(Dense(256, activation='relu', kernel_initializer='he_normal'))\n",
        "model.add(Dense(128, activation='relu', kernel_initializer='he_normal'))\n",
        "model.add(Dropout(0.3))\n",
        "model.add(Dense(64, activation='relu', kernel_initializer='he_normal'))\n",
        "model.add(Dense(32, activation='relu', kernel_initializer='he_normal'))\n",
        "model.add(Dense(10, activation='softmax'))\n",
        "\n",
        "model.compile(loss='categorical_crossentropy', optimizer='adam', metrics=['accuracy'])\n",
        "\n",
        "# 比較用にsection2と類似のモデルを準備\n",
        "model0 = Sequential()\n",
        "\n",
        "model0.add(Dense(units=256, input_shape=(784,)))\n",
        "model0.add(Activation('relu'))\n",
        "model0.add(Dense(units=100))\n",
        "model0.add(Activation('relu'))\n",
        "model0.add(Dense(units=10))\n",
        "model0.add(Activation('softmax'))\n",
        "\n",
        "model0.compile(loss='categorical_crossentropy', optimizer='sgd', metrics=['accuracy'])"
      ],
      "execution_count": 5,
      "outputs": [
        {
          "output_type": "stream",
          "text": [
            "WARNING: Logging before flag parsing goes to stderr.\n",
            "W0828 05:48:54.993345 140035382110080 deprecation.py:506] From /usr/local/lib/python3.6/dist-packages/tensorflow/python/ops/init_ops.py:1251: calling VarianceScaling.__init__ (from tensorflow.python.ops.init_ops) with dtype is deprecated and will be removed in a future version.\n",
            "Instructions for updating:\n",
            "Call initializer instance with the dtype argument instead of passing it to the constructor\n"
          ],
          "name": "stderr"
        }
      ]
    },
    {
      "cell_type": "code",
      "metadata": {
        "id": "fCgfVtFslgIA",
        "colab_type": "code",
        "colab": {
          "base_uri": "https://localhost:8080/",
          "height": 736
        },
        "outputId": "ef52cf36-49b3-494d-cf63-09ffeca404e9"
      },
      "source": [
        "# 学習\n",
        "from tensorflow.keras.callbacks import EarlyStopping\n",
        "\n",
        "early_stopping = EarlyStopping(patience=10, verbose=1)\n",
        "\n",
        "model.fit(x_train, y_train, batch_size=1000, verbose=2, epochs=10, validation_data=(x_test, y_test), callbacks=[early_stopping])\n",
        "model0.fit(x_train, y_train, batch_size=1000, verbose=2, epochs=10, validation_data=(x_test, y_test))"
      ],
      "execution_count": 6,
      "outputs": [
        {
          "output_type": "stream",
          "text": [
            "Train on 60000 samples, validate on 10000 samples\n",
            "Epoch 1/10\n",
            "60000/60000 - 1s - loss: 0.8721 - acc: 0.6928 - val_loss: 0.4963 - val_acc: 0.8261\n",
            "Epoch 2/10\n",
            "60000/60000 - 1s - loss: 0.4656 - acc: 0.8363 - val_loss: 0.4488 - val_acc: 0.8419\n",
            "Epoch 3/10\n",
            "60000/60000 - 1s - loss: 0.4012 - acc: 0.8558 - val_loss: 0.3904 - val_acc: 0.8575\n",
            "Epoch 4/10\n",
            "60000/60000 - 1s - loss: 0.3639 - acc: 0.8686 - val_loss: 0.3678 - val_acc: 0.8681\n",
            "Epoch 5/10\n",
            "60000/60000 - 1s - loss: 0.3372 - acc: 0.8777 - val_loss: 0.3634 - val_acc: 0.8670\n",
            "Epoch 6/10\n",
            "60000/60000 - 1s - loss: 0.3144 - acc: 0.8846 - val_loss: 0.3569 - val_acc: 0.8702\n",
            "Epoch 7/10\n",
            "60000/60000 - 1s - loss: 0.3011 - acc: 0.8898 - val_loss: 0.3407 - val_acc: 0.8763\n",
            "Epoch 8/10\n",
            "60000/60000 - 1s - loss: 0.2888 - acc: 0.8938 - val_loss: 0.3417 - val_acc: 0.8754\n",
            "Epoch 9/10\n",
            "60000/60000 - 1s - loss: 0.2779 - acc: 0.8971 - val_loss: 0.3400 - val_acc: 0.8802\n",
            "Epoch 10/10\n",
            "60000/60000 - 1s - loss: 0.2604 - acc: 0.9046 - val_loss: 0.3390 - val_acc: 0.8810\n",
            "Train on 60000 samples, validate on 10000 samples\n",
            "Epoch 1/10\n",
            "60000/60000 - 1s - loss: 1.9724 - acc: 0.4198 - val_loss: 1.6278 - val_acc: 0.6150\n",
            "Epoch 2/10\n",
            "60000/60000 - 1s - loss: 1.3902 - acc: 0.6428 - val_loss: 1.2031 - val_acc: 0.6614\n",
            "Epoch 3/10\n",
            "60000/60000 - 1s - loss: 1.0796 - acc: 0.6835 - val_loss: 0.9937 - val_acc: 0.6915\n",
            "Epoch 4/10\n",
            "60000/60000 - 1s - loss: 0.9228 - acc: 0.7128 - val_loss: 0.8831 - val_acc: 0.7165\n",
            "Epoch 5/10\n",
            "60000/60000 - 1s - loss: 0.8347 - acc: 0.7329 - val_loss: 0.8159 - val_acc: 0.7312\n",
            "Epoch 6/10\n",
            "60000/60000 - 1s - loss: 0.7777 - acc: 0.7473 - val_loss: 0.7696 - val_acc: 0.7401\n",
            "Epoch 7/10\n",
            "60000/60000 - 1s - loss: 0.7362 - acc: 0.7595 - val_loss: 0.7344 - val_acc: 0.7504\n",
            "Epoch 8/10\n",
            "60000/60000 - 1s - loss: 0.7039 - acc: 0.7704 - val_loss: 0.7059 - val_acc: 0.7618\n",
            "Epoch 9/10\n",
            "60000/60000 - 1s - loss: 0.6780 - acc: 0.7774 - val_loss: 0.6831 - val_acc: 0.7667\n",
            "Epoch 10/10\n",
            "60000/60000 - 1s - loss: 0.6565 - acc: 0.7847 - val_loss: 0.6640 - val_acc: 0.7752\n"
          ],
          "name": "stdout"
        },
        {
          "output_type": "execute_result",
          "data": {
            "text/plain": [
              "<tensorflow.python.keras.callbacks.History at 0x7f5c2cdda208>"
            ]
          },
          "metadata": {
            "tags": []
          },
          "execution_count": 6
        }
      ]
    },
    {
      "cell_type": "code",
      "metadata": {
        "id": "GqomWxzdlgIF",
        "colab_type": "code",
        "colab": {
          "base_uri": "https://localhost:8080/",
          "height": 117
        },
        "outputId": "d270e4f8-0334-41ad-fa9c-9ee682916a0c"
      },
      "source": [
        "# 性能評価\n",
        "score = model.evaluate(x_test, y_test, verbose=1)\n",
        "print('Test loss:', score[0])\n",
        "print('Test accuracy:', score[1])\n",
        "score0 = model0.evaluate(x_test, y_test, verbose=1)\n",
        "print('Test loss by model0:', score0[0])\n",
        "print('Test accuracy by model0:', score0[1])"
      ],
      "execution_count": 9,
      "outputs": [
        {
          "output_type": "stream",
          "text": [
            "10000/10000 [==============================] - 1s 88us/sample - loss: 0.3390 - acc: 0.8810\n",
            "Test loss: 0.33903713710308075\n",
            "Test accuracy: 0.881\n",
            "10000/10000 [==============================] - 1s 82us/sample - loss: 0.6640 - acc: 0.7752\n",
            "Test loss by model0: 0.6639621399879455\n",
            "Test accuracy by model0: 0.7752\n"
          ],
          "name": "stdout"
        }
      ]
    },
    {
      "cell_type": "code",
      "metadata": {
        "id": "q0vqdViYlgIH",
        "colab_type": "code",
        "colab": {}
      },
      "source": [
        ""
      ],
      "execution_count": 0,
      "outputs": []
    }
  ]
}