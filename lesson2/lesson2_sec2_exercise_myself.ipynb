{
  "nbformat": 4,
  "nbformat_minor": 0,
  "metadata": {
    "kernelspec": {
      "name": "python3",
      "display_name": "Python 3"
    },
    "language_info": {
      "codemirror_mode": {
        "name": "ipython",
        "version": 3
      },
      "file_extension": ".py",
      "mimetype": "text/x-python",
      "name": "python",
      "nbconvert_exporter": "python",
      "pygments_lexer": "ipython3",
      "version": "3.6.8"
    },
    "colab": {
      "name": "lesson2_sec2_exercise_myself.ipynb",
      "version": "0.3.2",
      "provenance": [],
      "include_colab_link": true
    },
    "accelerator": "GPU"
  },
  "cells": [
    {
      "cell_type": "markdown",
      "metadata": {
        "id": "view-in-github",
        "colab_type": "text"
      },
      "source": [
        "<a href=\"https://colab.research.google.com/github/naomori/dl4us/blob/master/lesson2/lesson2_sec2_exercise_myself.ipynb\" target=\"_parent\"><img src=\"https://colab.research.google.com/assets/colab-badge.svg\" alt=\"Open In Colab\"/></a>"
      ]
    },
    {
      "cell_type": "markdown",
      "metadata": {
        "id": "WC8Qaq4L6Dzx",
        "colab_type": "text"
      },
      "source": [
        "# Lesson2 畳み込みニューラルネットワーク (CNN)"
      ]
    },
    {
      "cell_type": "markdown",
      "metadata": {
        "id": "zxTLO4M26Dzy",
        "colab_type": "text"
      },
      "source": [
        "## 目次\n",
        "\n",
        "- Section1 解説\n",
        "  - 1.1 CNN基礎\n",
        "  - 1.2 Convolution(畳み込み)層\n",
        "  - 1.3 Pooling(プーリング)層\n",
        "  - 1.4 確認問題\n",
        "- Section2 実装①\n",
        "  - 2.1 Fasion MNISTをCNNでクラス分類\n",
        "  - 2.2 CIFAR10のデータをCNNでクラス分類\n",
        "- Section3 テクニック・発展内容\n",
        "  - 3.1 Data Augmentation\n",
        "  - 3.2 画像データの正規化\n",
        "  - 3.3 Batch Normalization\n",
        "  - 3.4 Skip Connection  (Residual Network)\n",
        "  - 3.5 学習済みネットワークの利用\n",
        "  - 3.6 学習させたモデルの保存・再利用\n",
        "  - 3.7 確認問題\n",
        "- Section4 実装②\n",
        "  - 4.1 CIFAR10のデータをCNNでクラス分類②\n",
        "- Section5 ケーススタディ"
      ]
    },
    {
      "cell_type": "markdown",
      "metadata": {
        "id": "hfD7HE826Dzz",
        "colab_type": "text"
      },
      "source": [
        "## 1.4の解答\n",
        "問1: ①\n",
        "問2: ①\n",
        "問3: ①\n",
        "問4: ①\n",
        "問5: ①"
      ]
    },
    {
      "cell_type": "code",
      "metadata": {
        "id": "rJOqLSRy6Dzz",
        "colab_type": "code",
        "colab": {}
      },
      "source": [
        "%matplotlib inline\n",
        "\n",
        "import os\n",
        "\n",
        "import tensorflow.keras as keras\n",
        "import numpy as np\n",
        "import matplotlib.pyplot as plt\n",
        "\n",
        "from tensorflow.keras.layers import Dense, Conv2D, MaxPooling2D, Flatten, Input, Activation, add, Add, Dropout, BatchNormalization\n",
        "from tensorflow.keras.callbacks import EarlyStopping\n",
        "from tensorflow.keras.models import Sequential, Model\n",
        "from tensorflow.keras.datasets import cifar10\n",
        "from tensorflow.keras.datasets import fashion_mnist\n",
        "from tensorflow.keras.utils import to_categorical\n",
        "from sklearn.model_selection import train_test_split\n",
        "\n",
        "from IPython.display import SVG\n",
        "from tensorflow.python.keras.utils.vis_utils import model_to_dot\n",
        "\n",
        "random_state = 42"
      ],
      "execution_count": 0,
      "outputs": []
    },
    {
      "cell_type": "markdown",
      "metadata": {
        "id": "JFfKV3y26Dz2",
        "colab_type": "text"
      },
      "source": [
        "## Section2 実装①"
      ]
    },
    {
      "cell_type": "markdown",
      "metadata": {
        "id": "Cb39jgKM6Dz3",
        "colab_type": "text"
      },
      "source": [
        "### 2.1 Fasion MNISTをCNNでクラス分類"
      ]
    },
    {
      "cell_type": "markdown",
      "metadata": {
        "id": "HmARDePM6Dz3",
        "colab_type": "text"
      },
      "source": [
        "まずは、Lesson1でも扱ったFashion MNISTのデータを今回はCNNを利用してクラス分類していきます。"
      ]
    },
    {
      "cell_type": "markdown",
      "metadata": {
        "id": "osgkRwd76Dz4",
        "colab_type": "text"
      },
      "source": [
        "#### 2.1.1 データセットの読み込み"
      ]
    },
    {
      "cell_type": "code",
      "metadata": {
        "id": "WcPXu9Rz6Dz4",
        "colab_type": "code",
        "colab": {}
      },
      "source": [
        "(x_train, y_train), (x_test, y_test) = fashion_mnist.load_data()"
      ],
      "execution_count": 0,
      "outputs": []
    },
    {
      "cell_type": "code",
      "metadata": {
        "id": "nw1lTQi56Dz6",
        "colab_type": "code",
        "colab": {
          "base_uri": "https://localhost:8080/",
          "height": 107
        },
        "outputId": "8aa40f6a-ca91-4e39-a4ab-47a6c2494382"
      },
      "source": [
        "fig = plt.figure(figsize=(9, 15))\n",
        "fig.subplots_adjust(left=0, right=1, bottom=0, top=0.5, hspace=0.05,\n",
        "                    wspace=0.05)\n",
        "\n",
        "for i in range(9):\n",
        "    ax = fig.add_subplot(1, 9, i + 1, xticks=[], yticks=[])\n",
        "    ax.imshow(x_train[i], cmap='gray')"
      ],
      "execution_count": 3,
      "outputs": [
        {
          "output_type": "display_data",
          "data": {
            "image/png": "[encoded data removed]",
            "text/plain": [
              "<Figure size 648x1080 with 9 Axes>"
            ]
          },
          "metadata": {
            "tags": []
          }
        }
      ]
    },
    {
      "cell_type": "markdown",
      "metadata": {
        "id": "eBfA7ZuA6Dz8",
        "colab_type": "text"
      },
      "source": [
        "このとき読み込んだ画像は(バッチサイズ、縦の画素数、 横の画素数)の次元で表されています。"
      ]
    },
    {
      "cell_type": "code",
      "metadata": {
        "id": "0uJt1HrI6Dz8",
        "colab_type": "code",
        "colab": {
          "base_uri": "https://localhost:8080/",
          "height": 33
        },
        "outputId": "b9794513-35d8-4962-c319-036afe463ce6"
      },
      "source": [
        "x_train.shape"
      ],
      "execution_count": 4,
      "outputs": [
        {
          "output_type": "execute_result",
          "data": {
            "text/plain": [
              "(60000, 28, 28)"
            ]
          },
          "metadata": {
            "tags": []
          },
          "execution_count": 4
        }
      ]
    },
    {
      "cell_type": "code",
      "metadata": {
        "id": "rCroSJ4R6Dz-",
        "colab_type": "code",
        "colab": {}
      },
      "source": [
        "x_train = x_train.reshape((x_train.shape[0], 28, 28, 1)) / 255\n",
        "x_test = x_test.reshape((x_test.shape[0], 28, 28, 1)) / 255\n",
        "y_train = to_categorical(y_train)\n",
        "y_test = to_categorical(y_test)"
      ],
      "execution_count": 0,
      "outputs": []
    },
    {
      "cell_type": "markdown",
      "metadata": {
        "id": "biMHkput6D0A",
        "colab_type": "text"
      },
      "source": [
        "Lesson1の多層パーセプトロンでは入力を (バッチサイズ、画素数) の2次元テンソルとして扱いましたが、 CNNでは2次元の画像として処理していくために4次元テンソル (バッチサイズ、縦の画素数、横の画素数、チャンネル数)として扱います。 チャンネル数は白黒画像の場合は1、 カラー画像の場合はRGBで3です。\n",
        "\n",
        "Fashion MNISTの画像は白黒データですのでチャンネル数を1に設定しています。(カラー画像の場合はチャンネル数が3になります)"
      ]
    },
    {
      "cell_type": "code",
      "metadata": {
        "id": "H5fXmiF46D0A",
        "colab_type": "code",
        "colab": {
          "base_uri": "https://localhost:8080/",
          "height": 33
        },
        "outputId": "95176d72-9d86-4a8e-b268-e81a212d8a46"
      },
      "source": [
        "x_train.shape"
      ],
      "execution_count": 6,
      "outputs": [
        {
          "output_type": "execute_result",
          "data": {
            "text/plain": [
              "(60000, 28, 28, 1)"
            ]
          },
          "metadata": {
            "tags": []
          },
          "execution_count": 6
        }
      ]
    },
    {
      "cell_type": "markdown",
      "metadata": {
        "id": "B8fKBGuI6D0D",
        "colab_type": "text"
      },
      "source": [
        "#### 2.1.2 実装"
      ]
    },
    {
      "cell_type": "code",
      "metadata": {
        "id": "O-Vr0lc06D0E",
        "colab_type": "code",
        "colab": {
          "base_uri": "https://localhost:8080/",
          "height": 104
        },
        "outputId": "47842437-23ea-4af6-ff9e-3fc81369e69b"
      },
      "source": [
        "model = Sequential()\n",
        "\n",
        "# 入力画像 28x28x1 (縦の画素数)x(横の画素数)x(チャンネル数)\n",
        "model.add(Conv2D(16, kernel_size=(5, 5), activation='relu',\n",
        "                 kernel_initializer='he_normal', input_shape=(28, 28, 1)))  # 28x28x1 -> 24x24x16\n",
        "model.add(MaxPooling2D(pool_size=(2, 2)))  # 24x24x16 -> 12x12x16\n",
        "model.add(Conv2D(64, kernel_size=(5, 5), activation='relu',\n",
        "                 kernel_initializer='he_normal'))  # 12x12x16 -> 8x8x64\n",
        "model.add(MaxPooling2D(pool_size=(2, 2)))  # 8x8x64 -> 4x4x64\n",
        "\n",
        "model.add(Flatten())  # 4x4x64-> 1024\n",
        "model.add(Dense(10, activation='softmax'))  # 1024 -> 10\n",
        "\n",
        "model.compile(\n",
        "    loss=keras.losses.categorical_crossentropy,\n",
        "    optimizer='adam',\n",
        "    metrics=['accuracy']\n",
        ")"
      ],
      "execution_count": 7,
      "outputs": [
        {
          "output_type": "stream",
          "text": [
            "WARNING: Logging before flag parsing goes to stderr.\n",
            "W0828 06:42:49.896471 140338177886080 deprecation.py:506] From /usr/local/lib/python3.6/dist-packages/tensorflow/python/ops/init_ops.py:1251: calling VarianceScaling.__init__ (from tensorflow.python.ops.init_ops) with dtype is deprecated and will be removed in a future version.\n",
            "Instructions for updating:\n",
            "Call initializer instance with the dtype argument instead of passing it to the constructor\n"
          ],
          "name": "stderr"
        }
      ]
    },
    {
      "cell_type": "markdown",
      "metadata": {
        "id": "o1-BBjmS6D0I",
        "colab_type": "text"
      },
      "source": [
        "作成したモデルを確認してみましょう。"
      ]
    },
    {
      "cell_type": "code",
      "metadata": {
        "id": "fQEs1hHh6D0J",
        "colab_type": "code",
        "colab": {
          "base_uri": "https://localhost:8080/",
          "height": 758
        },
        "outputId": "17b3c67b-6a97-419e-d32c-f2551044d608"
      },
      "source": [
        "SVG(model_to_dot(model, show_shapes=True).create(prog='dot', format='svg'))"
      ],
      "execution_count": 8,
      "outputs": [
        {
          "output_type": "execute_result",
          "data": {
            "text/plain": [
              "<IPython.core.display.SVG object>"
            ],
            "image/svg+xml": "<svg height=\"553pt\" viewBox=\"0.00 0.00 397.00 553.00\" width=\"397pt\" xmlns=\"http://www.w3.org/2000/svg\" xmlns:xlink=\"http://www.w3.org/1999/xlink\">\n<g class=\"graph\" id=\"graph0\" transform=\"scale(1 1) rotate(0) translate(4 549)\">\n<title>G</title>\n<polygon fill=\"#ffffff\" points=\"-4,4 -4,-549 393,-549 393,4 -4,4\" stroke=\"transparent\"/>\n<!-- 140336483304056 -->\n<g class=\"node\" id=\"node1\">\n<title>140336483304056</title>\n<polygon fill=\"none\" points=\"18,-498.5 18,-544.5 371,-544.5 371,-498.5 18,-498.5\" stroke=\"#000000\"/>\n<text fill=\"#000000\" font-family=\"Times,serif\" font-size=\"14.00\" text-anchor=\"middle\" x=\"102.5\" y=\"-517.8\">conv2d_input: InputLayer</text>\n<polyline fill=\"none\" points=\"187,-498.5 187,-544.5 \" stroke=\"#000000\"/>\n<text fill=\"#000000\" font-family=\"Times,serif\" font-size=\"14.00\" text-anchor=\"middle\" x=\"216\" y=\"-529.3\">input:</text>\n<polyline fill=\"none\" points=\"187,-521.5 245,-521.5 \" stroke=\"#000000\"/>\n<text fill=\"#000000\" font-family=\"Times,serif\" font-size=\"14.00\" text-anchor=\"middle\" x=\"216\" y=\"-506.3\">output:</text>\n<polyline fill=\"none\" points=\"245,-498.5 245,-544.5 \" stroke=\"#000000\"/>\n<text fill=\"#000000\" font-family=\"Times,serif\" font-size=\"14.00\" text-anchor=\"middle\" x=\"308\" y=\"-529.3\">[(None, 28, 28, 1)]</text>\n<polyline fill=\"none\" points=\"245,-521.5 371,-521.5 \" stroke=\"#000000\"/>\n<text fill=\"#000000\" font-family=\"Times,serif\" font-size=\"14.00\" text-anchor=\"middle\" x=\"308\" y=\"-506.3\">[(None, 28, 28, 1)]</text>\n</g>\n<!-- 140337580297520 -->\n<g class=\"node\" id=\"node2\">\n<title>140337580297520</title>\n<polygon fill=\"none\" points=\"44,-415.5 44,-461.5 345,-461.5 345,-415.5 44,-415.5\" stroke=\"#000000\"/>\n<text fill=\"#000000\" font-family=\"Times,serif\" font-size=\"14.00\" text-anchor=\"middle\" x=\"103\" y=\"-434.8\">conv2d: Conv2D</text>\n<polyline fill=\"none\" points=\"162,-415.5 162,-461.5 \" stroke=\"#000000\"/>\n<text fill=\"#000000\" font-family=\"Times,serif\" font-size=\"14.00\" text-anchor=\"middle\" x=\"191\" y=\"-446.3\">input:</text>\n<polyline fill=\"none\" points=\"162,-438.5 220,-438.5 \" stroke=\"#000000\"/>\n<text fill=\"#000000\" font-family=\"Times,serif\" font-size=\"14.00\" text-anchor=\"middle\" x=\"191\" y=\"-423.3\">output:</text>\n<polyline fill=\"none\" points=\"220,-415.5 220,-461.5 \" stroke=\"#000000\"/>\n<text fill=\"#000000\" font-family=\"Times,serif\" font-size=\"14.00\" text-anchor=\"middle\" x=\"282.5\" y=\"-446.3\">(None, 28, 28, 1)</text>\n<polyline fill=\"none\" points=\"220,-438.5 345,-438.5 \" stroke=\"#000000\"/>\n<text fill=\"#000000\" font-family=\"Times,serif\" font-size=\"14.00\" text-anchor=\"middle\" x=\"282.5\" y=\"-423.3\">(None, 24, 24, 16)</text>\n</g>\n<!-- 140336483304056&#45;&gt;140337580297520 -->\n<g class=\"edge\" id=\"edge1\">\n<title>140336483304056-&gt;140337580297520</title>\n<path d=\"M194.5,-498.3799C194.5,-490.1745 194.5,-480.7679 194.5,-471.8786\" fill=\"none\" stroke=\"#000000\"/>\n<polygon fill=\"#000000\" points=\"198.0001,-471.784 194.5,-461.784 191.0001,-471.784 198.0001,-471.784\" stroke=\"#000000\"/>\n</g>\n<!-- 140336483305400 -->\n<g class=\"node\" id=\"node3\">\n<title>140336483305400</title>\n<polygon fill=\"none\" points=\"0,-332.5 0,-378.5 389,-378.5 389,-332.5 0,-332.5\" stroke=\"#000000\"/>\n<text fill=\"#000000\" font-family=\"Times,serif\" font-size=\"14.00\" text-anchor=\"middle\" x=\"103\" y=\"-351.8\">max_pooling2d: MaxPooling2D</text>\n<polyline fill=\"none\" points=\"206,-332.5 206,-378.5 \" stroke=\"#000000\"/>\n<text fill=\"#000000\" font-family=\"Times,serif\" font-size=\"14.00\" text-anchor=\"middle\" x=\"235\" y=\"-363.3\">input:</text>\n<polyline fill=\"none\" points=\"206,-355.5 264,-355.5 \" stroke=\"#000000\"/>\n<text fill=\"#000000\" font-family=\"Times,serif\" font-size=\"14.00\" text-anchor=\"middle\" x=\"235\" y=\"-340.3\">output:</text>\n<polyline fill=\"none\" points=\"264,-332.5 264,-378.5 \" stroke=\"#000000\"/>\n<text fill=\"#000000\" font-family=\"Times,serif\" font-size=\"14.00\" text-anchor=\"middle\" x=\"326.5\" y=\"-363.3\">(None, 24, 24, 16)</text>\n<polyline fill=\"none\" points=\"264,-355.5 389,-355.5 \" stroke=\"#000000\"/>\n<text fill=\"#000000\" font-family=\"Times,serif\" font-size=\"14.00\" text-anchor=\"middle\" x=\"326.5\" y=\"-340.3\">(None, 12, 12, 16)</text>\n</g>\n<!-- 140337580297520&#45;&gt;140336483305400 -->\n<g class=\"edge\" id=\"edge2\">\n<title>140337580297520-&gt;140336483305400</title>\n<path d=\"M194.5,-415.3799C194.5,-407.1745 194.5,-397.7679 194.5,-388.8786\" fill=\"none\" stroke=\"#000000\"/>\n<polygon fill=\"#000000\" points=\"198.0001,-388.784 194.5,-378.784 191.0001,-388.784 198.0001,-388.784\" stroke=\"#000000\"/>\n</g>\n<!-- 140337580297688 -->\n<g class=\"node\" id=\"node4\">\n<title>140337580297688</title>\n<polygon fill=\"none\" points=\"36.5,-249.5 36.5,-295.5 352.5,-295.5 352.5,-249.5 36.5,-249.5\" stroke=\"#000000\"/>\n<text fill=\"#000000\" font-family=\"Times,serif\" font-size=\"14.00\" text-anchor=\"middle\" x=\"103\" y=\"-268.8\">conv2d_1: Conv2D</text>\n<polyline fill=\"none\" points=\"169.5,-249.5 169.5,-295.5 \" stroke=\"#000000\"/>\n<text fill=\"#000000\" font-family=\"Times,serif\" font-size=\"14.00\" text-anchor=\"middle\" x=\"198.5\" y=\"-280.3\">input:</text>\n<polyline fill=\"none\" points=\"169.5,-272.5 227.5,-272.5 \" stroke=\"#000000\"/>\n<text fill=\"#000000\" font-family=\"Times,serif\" font-size=\"14.00\" text-anchor=\"middle\" x=\"198.5\" y=\"-257.3\">output:</text>\n<polyline fill=\"none\" points=\"227.5,-249.5 227.5,-295.5 \" stroke=\"#000000\"/>\n<text fill=\"#000000\" font-family=\"Times,serif\" font-size=\"14.00\" text-anchor=\"middle\" x=\"290\" y=\"-280.3\">(None, 12, 12, 16)</text>\n<polyline fill=\"none\" points=\"227.5,-272.5 352.5,-272.5 \" stroke=\"#000000\"/>\n<text fill=\"#000000\" font-family=\"Times,serif\" font-size=\"14.00\" text-anchor=\"middle\" x=\"290\" y=\"-257.3\">(None, 8, 8, 64)</text>\n</g>\n<!-- 140336483305400&#45;&gt;140337580297688 -->\n<g class=\"edge\" id=\"edge3\">\n<title>140336483305400-&gt;140337580297688</title>\n<path d=\"M194.5,-332.3799C194.5,-324.1745 194.5,-314.7679 194.5,-305.8786\" fill=\"none\" stroke=\"#000000\"/>\n<polygon fill=\"#000000\" points=\"198.0001,-305.784 194.5,-295.784 191.0001,-305.784 198.0001,-305.784\" stroke=\"#000000\"/>\n</g>\n<!-- 140336474705032 -->\n<g class=\"node\" id=\"node5\">\n<title>140336474705032</title>\n<polygon fill=\"none\" points=\"0,-166.5 0,-212.5 389,-212.5 389,-166.5 0,-166.5\" stroke=\"#000000\"/>\n<text fill=\"#000000\" font-family=\"Times,serif\" font-size=\"14.00\" text-anchor=\"middle\" x=\"110.5\" y=\"-185.8\">max_pooling2d_1: MaxPooling2D</text>\n<polyline fill=\"none\" points=\"221,-166.5 221,-212.5 \" stroke=\"#000000\"/>\n<text fill=\"#000000\" font-family=\"Times,serif\" font-size=\"14.00\" text-anchor=\"middle\" x=\"250\" y=\"-197.3\">input:</text>\n<polyline fill=\"none\" points=\"221,-189.5 279,-189.5 \" stroke=\"#000000\"/>\n<text fill=\"#000000\" font-family=\"Times,serif\" font-size=\"14.00\" text-anchor=\"middle\" x=\"250\" y=\"-174.3\">output:</text>\n<polyline fill=\"none\" points=\"279,-166.5 279,-212.5 \" stroke=\"#000000\"/>\n<text fill=\"#000000\" font-family=\"Times,serif\" font-size=\"14.00\" text-anchor=\"middle\" x=\"334\" y=\"-197.3\">(None, 8, 8, 64)</text>\n<polyline fill=\"none\" points=\"279,-189.5 389,-189.5 \" stroke=\"#000000\"/>\n<text fill=\"#000000\" font-family=\"Times,serif\" font-size=\"14.00\" text-anchor=\"middle\" x=\"334\" y=\"-174.3\">(None, 4, 4, 64)</text>\n</g>\n<!-- 140337580297688&#45;&gt;140336474705032 -->\n<g class=\"edge\" id=\"edge4\">\n<title>140337580297688-&gt;140336474705032</title>\n<path d=\"M194.5,-249.3799C194.5,-241.1745 194.5,-231.7679 194.5,-222.8786\" fill=\"none\" stroke=\"#000000\"/>\n<polygon fill=\"#000000\" points=\"198.0001,-222.784 194.5,-212.784 191.0001,-222.784 198.0001,-222.784\" stroke=\"#000000\"/>\n</g>\n<!-- 140336483304728 -->\n<g class=\"node\" id=\"node6\">\n<title>140336483304728</title>\n<polygon fill=\"none\" points=\"61.5,-83.5 61.5,-129.5 327.5,-129.5 327.5,-83.5 61.5,-83.5\" stroke=\"#000000\"/>\n<text fill=\"#000000\" font-family=\"Times,serif\" font-size=\"14.00\" text-anchor=\"middle\" x=\"110.5\" y=\"-102.8\">flatten: Flatten</text>\n<polyline fill=\"none\" points=\"159.5,-83.5 159.5,-129.5 \" stroke=\"#000000\"/>\n<text fill=\"#000000\" font-family=\"Times,serif\" font-size=\"14.00\" text-anchor=\"middle\" x=\"188.5\" y=\"-114.3\">input:</text>\n<polyline fill=\"none\" points=\"159.5,-106.5 217.5,-106.5 \" stroke=\"#000000\"/>\n<text fill=\"#000000\" font-family=\"Times,serif\" font-size=\"14.00\" text-anchor=\"middle\" x=\"188.5\" y=\"-91.3\">output:</text>\n<polyline fill=\"none\" points=\"217.5,-83.5 217.5,-129.5 \" stroke=\"#000000\"/>\n<text fill=\"#000000\" font-family=\"Times,serif\" font-size=\"14.00\" text-anchor=\"middle\" x=\"272.5\" y=\"-114.3\">(None, 4, 4, 64)</text>\n<polyline fill=\"none\" points=\"217.5,-106.5 327.5,-106.5 \" stroke=\"#000000\"/>\n<text fill=\"#000000\" font-family=\"Times,serif\" font-size=\"14.00\" text-anchor=\"middle\" x=\"272.5\" y=\"-91.3\">(None, 1024)</text>\n</g>\n<!-- 140336474705032&#45;&gt;140336483304728 -->\n<g class=\"edge\" id=\"edge5\">\n<title>140336474705032-&gt;140336483304728</title>\n<path d=\"M194.5,-166.3799C194.5,-158.1745 194.5,-148.7679 194.5,-139.8786\" fill=\"none\" stroke=\"#000000\"/>\n<polygon fill=\"#000000\" points=\"198.0001,-139.784 194.5,-129.784 191.0001,-139.784 198.0001,-139.784\" stroke=\"#000000\"/>\n</g>\n<!-- 140336474293920 -->\n<g class=\"node\" id=\"node7\">\n<title>140336474293920</title>\n<polygon fill=\"none\" points=\"72,-.5 72,-46.5 317,-46.5 317,-.5 72,-.5\" stroke=\"#000000\"/>\n<text fill=\"#000000\" font-family=\"Times,serif\" font-size=\"14.00\" text-anchor=\"middle\" x=\"118\" y=\"-19.8\">dense: Dense</text>\n<polyline fill=\"none\" points=\"164,-.5 164,-46.5 \" stroke=\"#000000\"/>\n<text fill=\"#000000\" font-family=\"Times,serif\" font-size=\"14.00\" text-anchor=\"middle\" x=\"193\" y=\"-31.3\">input:</text>\n<polyline fill=\"none\" points=\"164,-23.5 222,-23.5 \" stroke=\"#000000\"/>\n<text fill=\"#000000\" font-family=\"Times,serif\" font-size=\"14.00\" text-anchor=\"middle\" x=\"193\" y=\"-8.3\">output:</text>\n<polyline fill=\"none\" points=\"222,-.5 222,-46.5 \" stroke=\"#000000\"/>\n<text fill=\"#000000\" font-family=\"Times,serif\" font-size=\"14.00\" text-anchor=\"middle\" x=\"269.5\" y=\"-31.3\">(None, 1024)</text>\n<polyline fill=\"none\" points=\"222,-23.5 317,-23.5 \" stroke=\"#000000\"/>\n<text fill=\"#000000\" font-family=\"Times,serif\" font-size=\"14.00\" text-anchor=\"middle\" x=\"269.5\" y=\"-8.3\">(None, 10)</text>\n</g>\n<!-- 140336483304728&#45;&gt;140336474293920 -->\n<g class=\"edge\" id=\"edge6\">\n<title>140336483304728-&gt;140336474293920</title>\n<path d=\"M194.5,-83.3799C194.5,-75.1745 194.5,-65.7679 194.5,-56.8786\" fill=\"none\" stroke=\"#000000\"/>\n<polygon fill=\"#000000\" points=\"198.0001,-56.784 194.5,-46.784 191.0001,-56.784 198.0001,-56.784\" stroke=\"#000000\"/>\n</g>\n</g>\n</svg>"
          },
          "metadata": {
            "tags": []
          },
          "execution_count": 8
        }
      ]
    },
    {
      "cell_type": "code",
      "metadata": {
        "id": "93-WVyOT6D0L",
        "colab_type": "code",
        "colab": {
          "base_uri": "https://localhost:8080/",
          "height": 334
        },
        "outputId": "83f35014-36f4-4b30-e001-cbde6dc61a9e"
      },
      "source": [
        "early_stopping = EarlyStopping(patience=1, verbose=1)\n",
        "model.fit(x=x_train, y=y_train, batch_size=128, epochs=100, verbose=1,\n",
        "          validation_data=(x_test, y_test), callbacks=[early_stopping])"
      ],
      "execution_count": 9,
      "outputs": [
        {
          "output_type": "stream",
          "text": [
            "Train on 60000 samples, validate on 10000 samples\n",
            "Epoch 1/100\n",
            "60000/60000 [==============================] - 5s 87us/sample - loss: 0.5271 - acc: 0.8116 - val_loss: 0.4076 - val_acc: 0.8520\n",
            "Epoch 2/100\n",
            "60000/60000 [==============================] - 4s 69us/sample - loss: 0.3485 - acc: 0.8764 - val_loss: 0.3488 - val_acc: 0.8751\n",
            "Epoch 3/100\n",
            "60000/60000 [==============================] - 4s 69us/sample - loss: 0.3038 - acc: 0.8915 - val_loss: 0.3262 - val_acc: 0.8856\n",
            "Epoch 4/100\n",
            "60000/60000 [==============================] - 4s 69us/sample - loss: 0.2774 - acc: 0.9021 - val_loss: 0.3142 - val_acc: 0.8869\n",
            "Epoch 5/100\n",
            "60000/60000 [==============================] - 4s 69us/sample - loss: 0.2561 - acc: 0.9086 - val_loss: 0.3134 - val_acc: 0.8920\n",
            "Epoch 6/100\n",
            "60000/60000 [==============================] - 4s 70us/sample - loss: 0.2402 - acc: 0.9136 - val_loss: 0.2953 - val_acc: 0.8941\n",
            "Epoch 7/100\n",
            "60000/60000 [==============================] - 4s 68us/sample - loss: 0.2235 - acc: 0.9204 - val_loss: 0.2873 - val_acc: 0.8991\n",
            "Epoch 8/100\n",
            "60000/60000 [==============================] - 4s 69us/sample - loss: 0.2112 - acc: 0.9243 - val_loss: 0.2943 - val_acc: 0.8994\n",
            "Epoch 00008: early stopping\n"
          ],
          "name": "stdout"
        },
        {
          "output_type": "execute_result",
          "data": {
            "text/plain": [
              "<tensorflow.python.keras.callbacks.History at 0x7fa2a19e8630>"
            ]
          },
          "metadata": {
            "tags": []
          },
          "execution_count": 9
        }
      ]
    },
    {
      "cell_type": "markdown",
      "metadata": {
        "id": "2gVEGY4q6D0N",
        "colab_type": "text"
      },
      "source": [
        "### 2.2 CIFAR10のデータをCNNでクラス分類"
      ]
    },
    {
      "cell_type": "markdown",
      "metadata": {
        "id": "KVFzgCmH6D0N",
        "colab_type": "text"
      },
      "source": [
        "####  2.2.1 データセットの読み込み"
      ]
    },
    {
      "cell_type": "markdown",
      "metadata": {
        "id": "XMPwzTXM6D0O",
        "colab_type": "text"
      },
      "source": [
        "6万枚のカラー画像に10のカテゴリのどれかが付与されたCIFAR-10というデータセットを使用します。\n",
        "\n",
        "まず、データを読み込みます。"
      ]
    },
    {
      "cell_type": "code",
      "metadata": {
        "id": "cQ-n9Mxu6D0O",
        "colab_type": "code",
        "colab": {
          "base_uri": "https://localhost:8080/",
          "height": 50
        },
        "outputId": "964535a3-563a-461c-8e20-89bf5a9100ad"
      },
      "source": [
        "(x_train, y_train), (x_test, y_test) = cifar10.load_data()\n",
        "\n",
        "x_train = x_train.astype('float32') / 255\n",
        "y_train = np.eye(10)[y_train.astype('int32').flatten()]\n",
        "\n",
        "x_test = x_test.astype('float32') / 255\n",
        "y_test = np.eye(10)[y_test.astype('int32').flatten()]\n",
        "\n",
        "x_train, x_valid, y_train, y_valid = train_test_split(\n",
        "    x_train, y_train, test_size=10000)"
      ],
      "execution_count": 10,
      "outputs": [
        {
          "output_type": "stream",
          "text": [
            "Downloading data from https://www.cs.toronto.edu/~kriz/cifar-10-python.tar.gz\n",
            "170500096/170498071 [==============================] - 11s 0us/step\n"
          ],
          "name": "stdout"
        }
      ]
    },
    {
      "cell_type": "markdown",
      "metadata": {
        "id": "Men7C6Mk6D0Q",
        "colab_type": "text"
      },
      "source": [
        "画像はRGBデータなのでFashion MNISTとは異なり、チャンネル数は3になります。"
      ]
    },
    {
      "cell_type": "code",
      "metadata": {
        "id": "kHdR1lq96D0Q",
        "colab_type": "code",
        "colab": {
          "base_uri": "https://localhost:8080/",
          "height": 33
        },
        "outputId": "e127a722-3f7a-4f09-cc60-eb691dff3b15"
      },
      "source": [
        "x_train.shape"
      ],
      "execution_count": 11,
      "outputs": [
        {
          "output_type": "execute_result",
          "data": {
            "text/plain": [
              "(40000, 32, 32, 3)"
            ]
          },
          "metadata": {
            "tags": []
          },
          "execution_count": 11
        }
      ]
    },
    {
      "cell_type": "markdown",
      "metadata": {
        "id": "tI0KLOBN6D0S",
        "colab_type": "text"
      },
      "source": [
        "次に、CIFAR-10の画像の例を表示してみます。この画像ひとつひとつに10のカテゴリのうちひとつが付与されています。"
      ]
    },
    {
      "cell_type": "code",
      "metadata": {
        "id": "LqjKnGCV6D0T",
        "colab_type": "code",
        "colab": {
          "base_uri": "https://localhost:8080/",
          "height": 107
        },
        "outputId": "fc55e91e-9187-4201-c5e0-b0ce9015370f"
      },
      "source": [
        "fig = plt.figure(figsize=(9, 15))\n",
        "fig.subplots_adjust(left=0, right=1, bottom=0, top=0.5, hspace=0.05,\n",
        "                    wspace=0.05)\n",
        "\n",
        "for i in range(9):\n",
        "    ax = fig.add_subplot(1, 9, i + 1, xticks=[], yticks=[])\n",
        "    ax.imshow(x_train[i])"
      ],
      "execution_count": 12,
      "outputs": [
        {
          "output_type": "display_data",
          "data": {
            "image/png": "[encoded data removed]",
            "text/plain": [
              "<Figure size 648x1080 with 9 Axes>"
            ]
          },
          "metadata": {
            "tags": []
          }
        }
      ]
    },
    {
      "cell_type": "markdown",
      "metadata": {
        "id": "A_e4SfbG6D0V",
        "colab_type": "text"
      },
      "source": [
        "以下のネットワークを実装してみます。\n",
        "\n",
        "![](https://github.com/naomori/dl4us/blob/master/lesson2/figures/lenet.png?raw=1)\n",
        "\n",
        "Y. LeCun et al., \"Gradient-based learning applied to document recognition\", Proceedings of the IEEE, 1998"
      ]
    },
    {
      "cell_type": "markdown",
      "metadata": {
        "id": "2QDmTfUI6D0V",
        "colab_type": "text"
      },
      "source": [
        "#### 2.2.2 実装"
      ]
    },
    {
      "cell_type": "code",
      "metadata": {
        "id": "SLOlIXnJ6D0W",
        "colab_type": "code",
        "colab": {}
      },
      "source": [
        "model = Sequential()\n",
        "\n",
        "model.add(Conv2D(6, kernel_size=(5, 5), activation='relu',\n",
        "                 kernel_initializer='he_normal', input_shape=(32, 32, 3)))  # 32x32x3 -> 28x28x6\n",
        "model.add(MaxPooling2D(pool_size=(2, 2)))  # 28x28x6 -> 14x14x6\n",
        "model.add(Conv2D(16, kernel_size=(5, 5), activation='relu',\n",
        "                 kernel_initializer='he_normal'))  # 14x14x6 -> 10x10x16\n",
        "model.add(MaxPooling2D(pool_size=(2, 2)))  # 10x10x16 -> 5x5x16\n",
        "\n",
        "model.add(Flatten())  # 5x5x16 -> 400\n",
        "model.add(Dense(120, activation='relu',\n",
        "                kernel_initializer='he_normal'))  # 400 ->120\n",
        "model.add(Dense(84, activation='relu', kernel_initializer='he_normal'))  # 120 ->84\n",
        "model.add(Dense(10, activation='softmax'))  # 84 ->10\n",
        "\n",
        "model.compile(\n",
        "    loss=keras.losses.categorical_crossentropy,\n",
        "    optimizer='adam',\n",
        "    metrics=['accuracy']\n",
        ")"
      ],
      "execution_count": 0,
      "outputs": []
    },
    {
      "cell_type": "markdown",
      "metadata": {
        "id": "rBYbaHMv6D0Y",
        "colab_type": "text"
      },
      "source": [
        "作成したモデルを確認してみましょう。"
      ]
    },
    {
      "cell_type": "code",
      "metadata": {
        "id": "BjLHMy7k6D0Y",
        "colab_type": "code",
        "colab": {
          "base_uri": "https://localhost:8080/",
          "height": 860
        },
        "outputId": "22ae52c4-7383-4a61-f420-90c9be1930c3"
      },
      "source": [
        "SVG(model_to_dot(model).create(prog='dot', format='svg'))"
      ],
      "execution_count": 14,
      "outputs": [
        {
          "output_type": "execute_result",
          "data": {
            "text/plain": [
              "<IPython.core.display.SVG object>"
            ],
            "image/svg+xml": "<svg height=\"629pt\" viewBox=\"0.00 0.00 229.00 629.00\" width=\"229pt\" xmlns=\"http://www.w3.org/2000/svg\" xmlns:xlink=\"http://www.w3.org/1999/xlink\">\n<g class=\"graph\" id=\"graph0\" transform=\"scale(1 1) rotate(0) translate(4 625)\">\n<title>G</title>\n<polygon fill=\"#ffffff\" points=\"-4,4 -4,-625 225,-625 225,4 -4,4\" stroke=\"transparent\"/>\n<!-- 140336177514480 -->\n<g class=\"node\" id=\"node1\">\n<title>140336177514480</title>\n<polygon fill=\"none\" points=\"18.5,-584.5 18.5,-620.5 202.5,-620.5 202.5,-584.5 18.5,-584.5\" stroke=\"#000000\"/>\n<text fill=\"#000000\" font-family=\"Times,serif\" font-size=\"14.00\" text-anchor=\"middle\" x=\"110.5\" y=\"-598.8\">conv2d_2_input: InputLayer</text>\n</g>\n<!-- 140336177513360 -->\n<g class=\"node\" id=\"node2\">\n<title>140336177513360</title>\n<polygon fill=\"none\" points=\"44,-511.5 44,-547.5 177,-547.5 177,-511.5 44,-511.5\" stroke=\"#000000\"/>\n<text fill=\"#000000\" font-family=\"Times,serif\" font-size=\"14.00\" text-anchor=\"middle\" x=\"110.5\" y=\"-525.8\">conv2d_2: Conv2D</text>\n</g>\n<!-- 140336177514480&#45;&gt;140336177513360 -->\n<g class=\"edge\" id=\"edge1\">\n<title>140336177514480-&gt;140336177513360</title>\n<path d=\"M110.5,-584.4551C110.5,-576.3828 110.5,-566.6764 110.5,-557.6817\" fill=\"none\" stroke=\"#000000\"/>\n<polygon fill=\"#000000\" points=\"114.0001,-557.5903 110.5,-547.5904 107.0001,-557.5904 114.0001,-557.5903\" stroke=\"#000000\"/>\n</g>\n<!-- 140336177515096 -->\n<g class=\"node\" id=\"node3\">\n<title>140336177515096</title>\n<polygon fill=\"none\" points=\"0,-438.5 0,-474.5 221,-474.5 221,-438.5 0,-438.5\" stroke=\"#000000\"/>\n<text fill=\"#000000\" font-family=\"Times,serif\" font-size=\"14.00\" text-anchor=\"middle\" x=\"110.5\" y=\"-452.8\">max_pooling2d_2: MaxPooling2D</text>\n</g>\n<!-- 140336177513360&#45;&gt;140336177515096 -->\n<g class=\"edge\" id=\"edge2\">\n<title>140336177513360-&gt;140336177515096</title>\n<path d=\"M110.5,-511.4551C110.5,-503.3828 110.5,-493.6764 110.5,-484.6817\" fill=\"none\" stroke=\"#000000\"/>\n<polygon fill=\"#000000\" points=\"114.0001,-484.5903 110.5,-474.5904 107.0001,-484.5904 114.0001,-484.5903\" stroke=\"#000000\"/>\n</g>\n<!-- 140336177513472 -->\n<g class=\"node\" id=\"node4\">\n<title>140336177513472</title>\n<polygon fill=\"none\" points=\"44,-365.5 44,-401.5 177,-401.5 177,-365.5 44,-365.5\" stroke=\"#000000\"/>\n<text fill=\"#000000\" font-family=\"Times,serif\" font-size=\"14.00\" text-anchor=\"middle\" x=\"110.5\" y=\"-379.8\">conv2d_3: Conv2D</text>\n</g>\n<!-- 140336177515096&#45;&gt;140336177513472 -->\n<g class=\"edge\" id=\"edge3\">\n<title>140336177515096-&gt;140336177513472</title>\n<path d=\"M110.5,-438.4551C110.5,-430.3828 110.5,-420.6764 110.5,-411.6817\" fill=\"none\" stroke=\"#000000\"/>\n<polygon fill=\"#000000\" points=\"114.0001,-411.5903 110.5,-401.5904 107.0001,-411.5904 114.0001,-411.5903\" stroke=\"#000000\"/>\n</g>\n<!-- 140336177561440 -->\n<g class=\"node\" id=\"node5\">\n<title>140336177561440</title>\n<polygon fill=\"none\" points=\"0,-292.5 0,-328.5 221,-328.5 221,-292.5 0,-292.5\" stroke=\"#000000\"/>\n<text fill=\"#000000\" font-family=\"Times,serif\" font-size=\"14.00\" text-anchor=\"middle\" x=\"110.5\" y=\"-306.8\">max_pooling2d_3: MaxPooling2D</text>\n</g>\n<!-- 140336177513472&#45;&gt;140336177561440 -->\n<g class=\"edge\" id=\"edge4\">\n<title>140336177513472-&gt;140336177561440</title>\n<path d=\"M110.5,-365.4551C110.5,-357.3828 110.5,-347.6764 110.5,-338.6817\" fill=\"none\" stroke=\"#000000\"/>\n<polygon fill=\"#000000\" points=\"114.0001,-338.5903 110.5,-328.5904 107.0001,-338.5904 114.0001,-338.5903\" stroke=\"#000000\"/>\n</g>\n<!-- 140336177514760 -->\n<g class=\"node\" id=\"node6\">\n<title>140336177514760</title>\n<polygon fill=\"none\" points=\"54,-219.5 54,-255.5 167,-255.5 167,-219.5 54,-219.5\" stroke=\"#000000\"/>\n<text fill=\"#000000\" font-family=\"Times,serif\" font-size=\"14.00\" text-anchor=\"middle\" x=\"110.5\" y=\"-233.8\">flatten_1: Flatten</text>\n</g>\n<!-- 140336177561440&#45;&gt;140336177514760 -->\n<g class=\"edge\" id=\"edge5\">\n<title>140336177561440-&gt;140336177514760</title>\n<path d=\"M110.5,-292.4551C110.5,-284.3828 110.5,-274.6764 110.5,-265.6817\" fill=\"none\" stroke=\"#000000\"/>\n<polygon fill=\"#000000\" points=\"114.0001,-265.5903 110.5,-255.5904 107.0001,-265.5904 114.0001,-265.5903\" stroke=\"#000000\"/>\n</g>\n<!-- 140336525462832 -->\n<g class=\"node\" id=\"node7\">\n<title>140336525462832</title>\n<polygon fill=\"none\" points=\"57,-146.5 57,-182.5 164,-182.5 164,-146.5 57,-146.5\" stroke=\"#000000\"/>\n<text fill=\"#000000\" font-family=\"Times,serif\" font-size=\"14.00\" text-anchor=\"middle\" x=\"110.5\" y=\"-160.8\">dense_1: Dense</text>\n</g>\n<!-- 140336177514760&#45;&gt;140336525462832 -->\n<g class=\"edge\" id=\"edge6\">\n<title>140336177514760-&gt;140336525462832</title>\n<path d=\"M110.5,-219.4551C110.5,-211.3828 110.5,-201.6764 110.5,-192.6817\" fill=\"none\" stroke=\"#000000\"/>\n<polygon fill=\"#000000\" points=\"114.0001,-192.5903 110.5,-182.5904 107.0001,-192.5904 114.0001,-192.5903\" stroke=\"#000000\"/>\n</g>\n<!-- 140336177515320 -->\n<g class=\"node\" id=\"node8\">\n<title>140336177515320</title>\n<polygon fill=\"none\" points=\"57,-73.5 57,-109.5 164,-109.5 164,-73.5 57,-73.5\" stroke=\"#000000\"/>\n<text fill=\"#000000\" font-family=\"Times,serif\" font-size=\"14.00\" text-anchor=\"middle\" x=\"110.5\" y=\"-87.8\">dense_2: Dense</text>\n</g>\n<!-- 140336525462832&#45;&gt;140336177515320 -->\n<g class=\"edge\" id=\"edge7\">\n<title>140336525462832-&gt;140336177515320</title>\n<path d=\"M110.5,-146.4551C110.5,-138.3828 110.5,-128.6764 110.5,-119.6817\" fill=\"none\" stroke=\"#000000\"/>\n<polygon fill=\"#000000\" points=\"114.0001,-119.5903 110.5,-109.5904 107.0001,-119.5904 114.0001,-119.5903\" stroke=\"#000000\"/>\n</g>\n<!-- 140336177464544 -->\n<g class=\"node\" id=\"node9\">\n<title>140336177464544</title>\n<polygon fill=\"none\" points=\"57,-.5 57,-36.5 164,-36.5 164,-.5 57,-.5\" stroke=\"#000000\"/>\n<text fill=\"#000000\" font-family=\"Times,serif\" font-size=\"14.00\" text-anchor=\"middle\" x=\"110.5\" y=\"-14.8\">dense_3: Dense</text>\n</g>\n<!-- 140336177515320&#45;&gt;140336177464544 -->\n<g class=\"edge\" id=\"edge8\">\n<title>140336177515320-&gt;140336177464544</title>\n<path d=\"M110.5,-73.4551C110.5,-65.3828 110.5,-55.6764 110.5,-46.6817\" fill=\"none\" stroke=\"#000000\"/>\n<polygon fill=\"#000000\" points=\"114.0001,-46.5903 110.5,-36.5904 107.0001,-46.5904 114.0001,-46.5903\" stroke=\"#000000\"/>\n</g>\n</g>\n</svg>"
          },
          "metadata": {
            "tags": []
          },
          "execution_count": 14
        }
      ]
    },
    {
      "cell_type": "code",
      "metadata": {
        "id": "jPz0pjZO6D0b",
        "colab_type": "code",
        "colab": {
          "base_uri": "https://localhost:8080/",
          "height": 268
        },
        "outputId": "d09d8427-2c25-4d16-b918-83463b37ae89"
      },
      "source": [
        "early_stopping = EarlyStopping(patience=1, verbose=1)\n",
        "model.fit(x=x_train, y=y_train, batch_size=128, epochs=100, verbose=1,\n",
        "          validation_data=(x_valid, y_valid), callbacks=[early_stopping])"
      ],
      "execution_count": 15,
      "outputs": [
        {
          "output_type": "stream",
          "text": [
            "Train on 40000 samples, validate on 10000 samples\n",
            "Epoch 1/100\n",
            "40000/40000 [==============================] - 3s 72us/sample - loss: 1.7694 - acc: 0.3535 - val_loss: 1.5811 - val_acc: 0.4331\n",
            "Epoch 2/100\n",
            "40000/40000 [==============================] - 3s 72us/sample - loss: 1.4630 - acc: 0.4669 - val_loss: 1.4116 - val_acc: 0.4920\n",
            "Epoch 3/100\n",
            "40000/40000 [==============================] - 3s 72us/sample - loss: 1.3540 - acc: 0.5129 - val_loss: 1.3514 - val_acc: 0.5108\n",
            "Epoch 4/100\n",
            "40000/40000 [==============================] - 3s 72us/sample - loss: 1.2808 - acc: 0.5434 - val_loss: 1.2731 - val_acc: 0.5425\n",
            "Epoch 5/100\n",
            "40000/40000 [==============================] - 3s 72us/sample - loss: 1.2141 - acc: 0.5666 - val_loss: 1.2483 - val_acc: 0.5535\n",
            "Epoch 6/100\n",
            "40000/40000 [==============================] - 3s 72us/sample - loss: 1.1726 - acc: 0.5806 - val_loss: 1.2578 - val_acc: 0.5552\n",
            "Epoch 00006: early stopping\n"
          ],
          "name": "stdout"
        },
        {
          "output_type": "execute_result",
          "data": {
            "text/plain": [
              "<tensorflow.python.keras.callbacks.History at 0x7fa2a19e5f60>"
            ]
          },
          "metadata": {
            "tags": []
          },
          "execution_count": 15
        }
      ]
    },
    {
      "cell_type": "code",
      "metadata": {
        "id": "sGXkYUxm-3FI",
        "colab_type": "code",
        "colab": {}
      },
      "source": [
        ""
      ],
      "execution_count": 0,
      "outputs": []
    }
  ]
}